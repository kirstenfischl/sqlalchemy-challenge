{
 "cells": [
  {
   "cell_type": "code",
   "execution_count": 1,
   "metadata": {},
   "outputs": [],
   "source": [
    "%matplotlib inline\n",
    "from matplotlib import style\n",
    "style.use('fivethirtyeight')\n",
    "import matplotlib.pyplot as plt"
   ]
  },
  {
   "cell_type": "code",
   "execution_count": 2,
   "metadata": {},
   "outputs": [],
   "source": [
    "import numpy as np\n",
    "import pandas as pd"
   ]
  },
  {
   "cell_type": "code",
   "execution_count": 3,
   "metadata": {},
   "outputs": [],
   "source": [
    "import datetime as dt"
   ]
  },
  {
   "cell_type": "markdown",
   "metadata": {},
   "source": [
    "# Reflect Tables into SQLAlchemy ORM"
   ]
  },
  {
   "cell_type": "code",
   "execution_count": 4,
   "metadata": {},
   "outputs": [],
   "source": [
    "## Python SQL toolkit and Object Relational Mapper\n",
    "import sqlalchemy\n",
    "from sqlalchemy.ext.automap import automap_base\n",
    "from sqlalchemy.orm import Session\n",
    "from sqlalchemy import create_engine, func"
   ]
  },
  {
   "cell_type": "code",
   "execution_count": 5,
   "metadata": {},
   "outputs": [],
   "source": [
    "engine = create_engine(\"sqlite:///Resources/hawaii.sqlite\")\n",
    "conn = engine.connect()"
   ]
  },
  {
   "cell_type": "code",
   "execution_count": 6,
   "metadata": {},
   "outputs": [],
   "source": [
    "## Reflect an existing database into a new model\n",
    "Base = automap_base()\n",
    "\n",
    "# reflect the tables\n",
    "Base.prepare(engine, reflect=True)"
   ]
  },
  {
   "cell_type": "code",
   "execution_count": 7,
   "metadata": {},
   "outputs": [
    {
     "data": {
      "text/plain": [
       "['measurement', 'station']"
      ]
     },
     "execution_count": 7,
     "metadata": {},
     "output_type": "execute_result"
    }
   ],
   "source": [
    "## We can view all of the classes that automap found\n",
    "Base.classes.keys()"
   ]
  },
  {
   "cell_type": "code",
   "execution_count": 8,
   "metadata": {},
   "outputs": [],
   "source": [
    "## Save references to each table\n",
    "Measurement = Base.classes.measurement\n",
    "Station = Base.classes.station"
   ]
  },
  {
   "cell_type": "code",
   "execution_count": 9,
   "metadata": {},
   "outputs": [],
   "source": [
    "## Create our session (link) from Python to the DB\n",
    "session = Session(engine)"
   ]
  },
  {
   "cell_type": "markdown",
   "metadata": {},
   "source": [
    "# Exploratory Climate Analysis"
   ]
  },
  {
   "cell_type": "code",
   "execution_count": 10,
   "metadata": {},
   "outputs": [
    {
     "data": {
      "image/png": "[encoded data removed]",
      "text/plain": [
       "<Figure size 432x288 with 1 Axes>"
      ]
     },
     "metadata": {
      "needs_background": "light"
     },
     "output_type": "display_data"
    }
   ],
   "source": [
    "## Design a query to retrieve the last 12 months of precipitation data and plot the results\n",
    "\n",
    "# PULL ALL PRECIPITATION DATA\n",
    "prcp = session.query(Measurement.date, Measurement.prcp).\\\n",
    "    order_by(Measurement.date.desc()).group_by(Measurement.date).all()\n",
    "\n",
    "# FIND MOST RECENT DATE \n",
    "\n",
    "latest_date = session.query(Measurement.date).order_by(Measurement.date.desc()).first()\n",
    "\n",
    "# CONVERT DATE AND FIND DATE OF 1 YEAR PRIOR\n",
    "\n",
    "range_max = pd.DataFrame(latest_date, columns=['date'])\n",
    "range_max = dt.datetime.strptime(range_max['date'][0], '%Y-%m-%d')\n",
    "range_min = range_max - dt.timedelta(days=365)\n",
    "\n",
    "# FILTER FOR DATE RANGE\n",
    "\n",
    "prcp_data = session.query(Measurement.date, Measurement.prcp).\\\n",
    "    filter(Measurement.date >= range_min).\\\n",
    "    filter(Measurement.date <= range_max).\\\n",
    "    order_by(Measurement.date).group_by(Measurement.date).all()\n",
    "\n",
    "\n",
    "# SAVE INTO DATAFRAME\n",
    "prcp_df = pd.DataFrame(prcp_data, columns=['date', 'prcp'])\n",
    "\n",
    "# PLOT\n",
    "\n",
    "prcp_df.plot(x='date', y='prcp', title=\"Precipitation (Most Recent 12 Mos.)\")\n",
    "plt.ylabel('Precipitation (inches)')\n",
    "plt.xlabel('Date')\n",
    "plt.xticks(rotation=45)\n",
    "plt.show()"
   ]
  },
  {
   "cell_type": "code",
   "execution_count": 11,
   "metadata": {},
   "outputs": [
    {
     "data": {
      "text/html": [
       "<div>\n",
       "<style scoped>\n",
       "    .dataframe tbody tr th:only-of-type {\n",
       "        vertical-align: middle;\n",
       "    }\n",
       "\n",
       "    .dataframe tbody tr th {\n",
       "        vertical-align: top;\n",
       "    }\n",
       "\n",
       "    .dataframe thead th {\n",
       "        text-align: right;\n",
       "    }\n",
       "</style>\n",
       "<table border=\"1\" class=\"dataframe\">\n",
       "  <thead>\n",
       "    <tr style=\"text-align: right;\">\n",
       "      <th></th>\n",
       "      <th>prcp</th>\n",
       "    </tr>\n",
       "  </thead>\n",
       "  <tbody>\n",
       "    <tr>\n",
       "      <td>count</td>\n",
       "      <td>363.000000</td>\n",
       "    </tr>\n",
       "    <tr>\n",
       "      <td>min</td>\n",
       "      <td>0.000000</td>\n",
       "    </tr>\n",
       "    <tr>\n",
       "      <td>max</td>\n",
       "      <td>2.620000</td>\n",
       "    </tr>\n",
       "    <tr>\n",
       "      <td>mean</td>\n",
       "      <td>0.048843</td>\n",
       "    </tr>\n",
       "    <tr>\n",
       "      <td>median</td>\n",
       "      <td>0.000000</td>\n",
       "    </tr>\n",
       "    <tr>\n",
       "      <td>std</td>\n",
       "      <td>0.205197</td>\n",
       "    </tr>\n",
       "    <tr>\n",
       "      <td>var</td>\n",
       "      <td>0.042106</td>\n",
       "    </tr>\n",
       "  </tbody>\n",
       "</table>\n",
       "</div>"
      ],
      "text/plain": [
       "              prcp\n",
       "count   363.000000\n",
       "min       0.000000\n",
       "max       2.620000\n",
       "mean      0.048843\n",
       "median    0.000000\n",
       "std       0.205197\n",
       "var       0.042106"
      ]
     },
     "execution_count": 11,
     "metadata": {},
     "output_type": "execute_result"
    }
   ],
   "source": [
    "## Use Pandas to calcualte the summary statistics for the precipitation data\n",
    "\n",
    "#prcp_df.describe()\n",
    "prcp_df.agg({'prcp': ['count', 'min', 'max', 'mean', 'median', 'std', 'var']})"
   ]
  },
  {
   "cell_type": "code",
   "execution_count": 12,
   "metadata": {},
   "outputs": [
    {
     "name": "stdout",
     "output_type": "stream",
     "text": [
      "There are 9 stations in this dataset.\n"
     ]
    }
   ],
   "source": [
    "## Design a query to show how many stations are available in this dataset?\n",
    "\n",
    "stations = session.query(Station.station).all()\n",
    "station_count = len(stations)\n",
    "\n",
    "print(f\"There are {station_count} stations in this dataset.\")"
   ]
  },
  {
   "cell_type": "code",
   "execution_count": 13,
   "metadata": {},
   "outputs": [
    {
     "data": {
      "text/html": [
       "<div>\n",
       "<style scoped>\n",
       "    .dataframe tbody tr th:only-of-type {\n",
       "        vertical-align: middle;\n",
       "    }\n",
       "\n",
       "    .dataframe tbody tr th {\n",
       "        vertical-align: top;\n",
       "    }\n",
       "\n",
       "    .dataframe thead th {\n",
       "        text-align: right;\n",
       "    }\n",
       "</style>\n",
       "<table border=\"1\" class=\"dataframe\">\n",
       "  <thead>\n",
       "    <tr style=\"text-align: right;\">\n",
       "      <th></th>\n",
       "      <th>station</th>\n",
       "      <th>activity count</th>\n",
       "    </tr>\n",
       "  </thead>\n",
       "  <tbody>\n",
       "    <tr>\n",
       "      <td>0</td>\n",
       "      <td>USC00519281</td>\n",
       "      <td>2772</td>\n",
       "    </tr>\n",
       "    <tr>\n",
       "      <td>1</td>\n",
       "      <td>USC00519397</td>\n",
       "      <td>2724</td>\n",
       "    </tr>\n",
       "    <tr>\n",
       "      <td>2</td>\n",
       "      <td>USC00513117</td>\n",
       "      <td>2709</td>\n",
       "    </tr>\n",
       "    <tr>\n",
       "      <td>3</td>\n",
       "      <td>USC00519523</td>\n",
       "      <td>2669</td>\n",
       "    </tr>\n",
       "    <tr>\n",
       "      <td>4</td>\n",
       "      <td>USC00516128</td>\n",
       "      <td>2612</td>\n",
       "    </tr>\n",
       "    <tr>\n",
       "      <td>5</td>\n",
       "      <td>USC00514830</td>\n",
       "      <td>2202</td>\n",
       "    </tr>\n",
       "    <tr>\n",
       "      <td>6</td>\n",
       "      <td>USC00511918</td>\n",
       "      <td>1979</td>\n",
       "    </tr>\n",
       "    <tr>\n",
       "      <td>7</td>\n",
       "      <td>USC00517948</td>\n",
       "      <td>1372</td>\n",
       "    </tr>\n",
       "    <tr>\n",
       "      <td>8</td>\n",
       "      <td>USC00518838</td>\n",
       "      <td>511</td>\n",
       "    </tr>\n",
       "  </tbody>\n",
       "</table>\n",
       "</div>"
      ],
      "text/plain": [
       "       station  activity count\n",
       "0  USC00519281            2772\n",
       "1  USC00519397            2724\n",
       "2  USC00513117            2709\n",
       "3  USC00519523            2669\n",
       "4  USC00516128            2612\n",
       "5  USC00514830            2202\n",
       "6  USC00511918            1979\n",
       "7  USC00517948            1372\n",
       "8  USC00518838             511"
      ]
     },
     "execution_count": 13,
     "metadata": {},
     "output_type": "execute_result"
    }
   ],
   "source": [
    "## List the stations and the counts in descending order.\n",
    "\n",
    "station_activity = session.query(Measurement.station, func.count(Measurement.station)).group_by(Measurement.station).order_by(func.count(Measurement.station).desc()).all()\n",
    "\n",
    "station_activity_df = pd.DataFrame(station_activity, columns=['station', 'activity count'])\n",
    "\n",
    "station_activity_df"
   ]
  },
  {
   "cell_type": "code",
   "execution_count": 14,
   "metadata": {},
   "outputs": [
    {
     "data": {
      "text/plain": [
       "'USC00519281'"
      ]
     },
     "execution_count": 14,
     "metadata": {},
     "output_type": "execute_result"
    }
   ],
   "source": [
    "## What is the most active station? (i.e. what station has the most rows)?\n",
    "\n",
    "top_station = station_activity_df.iloc[0]\n",
    "\n",
    "station_id = top_station['station']\n",
    "station_id"
   ]
  },
  {
   "cell_type": "code",
   "execution_count": 15,
   "metadata": {},
   "outputs": [
    {
     "name": "stdout",
     "output_type": "stream",
     "text": [
      "The hightest temperature recorded was [(85.0,)]\n",
      "The lowest temperature recorded was [(54.0,)]\n",
      "The average temperature recorded was [(71.66378066378067,)]\n"
     ]
    }
   ],
   "source": [
    "## Using the station id from the previous query, calculate the lowest temperature recorded, \n",
    "## highest temperature recorded, and average temperature of the most active station?\n",
    "\n",
    "max = session.query(func.max(Measurement.tobs)).\\\n",
    "    filter(Measurement.station == station_id).all()\n",
    "\n",
    "min = session.query(func.min(Measurement.tobs)).\\\n",
    "    filter(Measurement.station == station_id).all()\n",
    "\n",
    "avg = session.query(func.avg(Measurement.tobs)).\\\n",
    "    filter(Measurement.station == station_id).all()\n",
    "\n",
    "print(f\"The hightest temperature recorded was {max}\")\n",
    "print(f\"The lowest temperature recorded was {min}\")\n",
    "print(f\"The average temperature recorded was {avg}\")"
   ]
  },
  {
   "cell_type": "code",
   "execution_count": 16,
   "metadata": {},
   "outputs": [
    {
     "data": {
      "image/png": "[encoded data removed]",
      "text/plain": [
       "<Figure size 432x288 with 1 Axes>"
      ]
     },
     "metadata": {
      "needs_background": "light"
     },
     "output_type": "display_data"
    }
   ],
   "source": [
    "## Choose the station with the highest number of temperature observations.\n",
    "## Query the last 12 months of temperature observation data for this station and plot the results as a histogram\n",
    "\n",
    "# PULL MOST ACTIVE STATION DATA\n",
    "station_data = session.query(Measurement.date, Measurement.tobs).\\\n",
    "    filter(Measurement.station == station_id).order_by(Measurement.date.desc()).all()\n",
    "\n",
    "# FIND MOST RECENT DATE\n",
    "\n",
    "station_recent = session.query(Measurement.date).order_by(Measurement.date.desc()).\\\n",
    "    filter(Measurement.station == station_id).first()\n",
    "\n",
    "\n",
    "# CONVERT DATE AND FIND DATE OF 1 YEAR PRIOR\n",
    "\n",
    "station_range_max = pd.DataFrame(station_recent, columns=['date'])\n",
    "station_range_max = dt.datetime.strptime(station_range_max['date'][0], '%Y-%m-%d')\n",
    "station_range_min = station_range_max - dt.timedelta(days=365)\n",
    "\n",
    "# FILTER FOR DATE RANGE\n",
    "\n",
    "temp_data = session.query(Measurement.date, Measurement.tobs).\\\n",
    "    filter(Measurement.date >= station_range_min).\\\n",
    "    filter(Measurement.date <= station_range_max).\\\n",
    "    order_by(Measurement.date).group_by(Measurement.date).all()\n",
    "\n",
    "\n",
    "# SAVE INTO DATAFRAME\n",
    "temp_df = pd.DataFrame(temp_data, columns=['date', 'tobs'])\n",
    "\n",
    "# PLOT HISTOGRAM WITH BINS = 12\n",
    "\n",
    "temp_df.hist(bins=12)\n",
    "plt.title('Temperature Frequency')\n",
    "plt.ylabel('Frequency')\n",
    "plt.xlabel('Temperature')\n",
    "plt.xticks(rotation=45)\n",
    "plt.show()"
   ]
  }
 ],
 "metadata": {
  "kernel_info": {
   "name": "python3"
  },
  "kernelspec": {
   "display_name": "Python 3",
   "language": "python",
   "name": "python3"
  },
  "language_info": {
   "codemirror_mode": {
    "name": "ipython",
    "version": 3
   },
   "file_extension": ".py",
   "mimetype": "text/x-python",
   "name": "python",
   "nbconvert_exporter": "python",
   "pygments_lexer": "ipython3",
   "version": "3.7.4"
  },
  "nteract": {
   "version": "0.12.3"
  },
  "varInspector": {
   "cols": {
    "lenName": 16,
    "lenType": 16,
    "lenVar": 40
   },
   "kernels_config": {
    "python": {
     "delete_cmd_postfix": "",
     "delete_cmd_prefix": "del ",
     "library": "var_list.py",
     "varRefreshCmd": "print(var_dic_list())"
    },
    "r": {
     "delete_cmd_postfix": ") ",
     "delete_cmd_prefix": "rm(",
     "library": "var_list.r",
     "varRefreshCmd": "cat(var_dic_list()) "
    }
   },
   "types_to_exclude": [
    "module",
    "function",
    "builtin_function_or_method",
    "instance",
    "_Feature"
   ],
   "window_display": false
  }
 },
 "nbformat": 4,
 "nbformat_minor": 2
}
